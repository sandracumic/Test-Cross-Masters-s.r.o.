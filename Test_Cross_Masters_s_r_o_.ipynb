{
  "nbformat": 4,
  "nbformat_minor": 0,
  "metadata": {
    "colab": {
      "provenance": [],
      "authorship_tag": "ABX9TyNWUgw+FLXPDMEZz2kOKFaH",
      "include_colab_link": true
    },
    "kernelspec": {
      "name": "python3",
      "display_name": "Python 3"
    },
    "language_info": {
      "name": "python"
    }
  },
  "cells": [
    {
      "cell_type": "markdown",
      "metadata": {
        "id": "view-in-github",
        "colab_type": "text"
      },
      "source": [
        "<a href=\"https://colab.research.google.com/github/sandracumic/Test-Cross-Masters-s.r.o./blob/main/Test_Cross_Masters_s_r_o_.ipynb\" target=\"_parent\"><img src=\"https://colab.research.google.com/assets/colab-badge.svg\" alt=\"Open In Colab\"/></a>"
      ]
    },
    {
      "cell_type": "markdown",
      "source": [
        "**TEST CROSS MASTERS S.R.O.**\n",
        "\n",
        "**Pozice: Začínající Datový Analytik**\n",
        "\n",
        "**Jméno: MSc Sandra Čumić**\n",
        "\n",
        "**Datum: 26.03.**"
      ],
      "metadata": {
        "id": "fRwh973GbWSn"
      }
    },
    {
      "cell_type": "code",
      "source": [
        "from google.colab import files\n",
        "uploaded = files.upload()\n"
      ],
      "metadata": {
        "colab": {
          "base_uri": "https://localhost:8080/",
          "height": 74
        },
        "id": "2-rbh12z-bbi",
        "outputId": "3a4a2379-0cd2-4456-8dd3-fd8cf85233f6"
      },
      "execution_count": 58,
      "outputs": [
        {
          "output_type": "display_data",
          "data": {
            "text/plain": [
              "<IPython.core.display.HTML object>"
            ],
            "text/html": [
              "\n",
              "     <input type=\"file\" id=\"files-eac32b03-9bdd-43f6-a0cc-acc13fb07ad9\" name=\"files[]\" multiple disabled\n",
              "        style=\"border:none\" />\n",
              "     <output id=\"result-eac32b03-9bdd-43f6-a0cc-acc13fb07ad9\">\n",
              "      Upload widget is only available when the cell has been executed in the\n",
              "      current browser session. Please rerun this cell to enable.\n",
              "      </output>\n",
              "      <script>// Copyright 2017 Google LLC\n",
              "//\n",
              "// Licensed under the Apache License, Version 2.0 (the \"License\");\n",
              "// you may not use this file except in compliance with the License.\n",
              "// You may obtain a copy of the License at\n",
              "//\n",
              "//      http://www.apache.org/licenses/LICENSE-2.0\n",
              "//\n",
              "// Unless required by applicable law or agreed to in writing, software\n",
              "// distributed under the License is distributed on an \"AS IS\" BASIS,\n",
              "// WITHOUT WARRANTIES OR CONDITIONS OF ANY KIND, either express or implied.\n",
              "// See the License for the specific language governing permissions and\n",
              "// limitations under the License.\n",
              "\n",
              "/**\n",
              " * @fileoverview Helpers for google.colab Python module.\n",
              " */\n",
              "(function(scope) {\n",
              "function span(text, styleAttributes = {}) {\n",
              "  const element = document.createElement('span');\n",
              "  element.textContent = text;\n",
              "  for (const key of Object.keys(styleAttributes)) {\n",
              "    element.style[key] = styleAttributes[key];\n",
              "  }\n",
              "  return element;\n",
              "}\n",
              "\n",
              "// Max number of bytes which will be uploaded at a time.\n",
              "const MAX_PAYLOAD_SIZE = 100 * 1024;\n",
              "\n",
              "function _uploadFiles(inputId, outputId) {\n",
              "  const steps = uploadFilesStep(inputId, outputId);\n",
              "  const outputElement = document.getElementById(outputId);\n",
              "  // Cache steps on the outputElement to make it available for the next call\n",
              "  // to uploadFilesContinue from Python.\n",
              "  outputElement.steps = steps;\n",
              "\n",
              "  return _uploadFilesContinue(outputId);\n",
              "}\n",
              "\n",
              "// This is roughly an async generator (not supported in the browser yet),\n",
              "// where there are multiple asynchronous steps and the Python side is going\n",
              "// to poll for completion of each step.\n",
              "// This uses a Promise to block the python side on completion of each step,\n",
              "// then passes the result of the previous step as the input to the next step.\n",
              "function _uploadFilesContinue(outputId) {\n",
              "  const outputElement = document.getElementById(outputId);\n",
              "  const steps = outputElement.steps;\n",
              "\n",
              "  const next = steps.next(outputElement.lastPromiseValue);\n",
              "  return Promise.resolve(next.value.promise).then((value) => {\n",
              "    // Cache the last promise value to make it available to the next\n",
              "    // step of the generator.\n",
              "    outputElement.lastPromiseValue = value;\n",
              "    return next.value.response;\n",
              "  });\n",
              "}\n",
              "\n",
              "/**\n",
              " * Generator function which is called between each async step of the upload\n",
              " * process.\n",
              " * @param {string} inputId Element ID of the input file picker element.\n",
              " * @param {string} outputId Element ID of the output display.\n",
              " * @return {!Iterable<!Object>} Iterable of next steps.\n",
              " */\n",
              "function* uploadFilesStep(inputId, outputId) {\n",
              "  const inputElement = document.getElementById(inputId);\n",
              "  inputElement.disabled = false;\n",
              "\n",
              "  const outputElement = document.getElementById(outputId);\n",
              "  outputElement.innerHTML = '';\n",
              "\n",
              "  const pickedPromise = new Promise((resolve) => {\n",
              "    inputElement.addEventListener('change', (e) => {\n",
              "      resolve(e.target.files);\n",
              "    });\n",
              "  });\n",
              "\n",
              "  const cancel = document.createElement('button');\n",
              "  inputElement.parentElement.appendChild(cancel);\n",
              "  cancel.textContent = 'Cancel upload';\n",
              "  const cancelPromise = new Promise((resolve) => {\n",
              "    cancel.onclick = () => {\n",
              "      resolve(null);\n",
              "    };\n",
              "  });\n",
              "\n",
              "  // Wait for the user to pick the files.\n",
              "  const files = yield {\n",
              "    promise: Promise.race([pickedPromise, cancelPromise]),\n",
              "    response: {\n",
              "      action: 'starting',\n",
              "    }\n",
              "  };\n",
              "\n",
              "  cancel.remove();\n",
              "\n",
              "  // Disable the input element since further picks are not allowed.\n",
              "  inputElement.disabled = true;\n",
              "\n",
              "  if (!files) {\n",
              "    return {\n",
              "      response: {\n",
              "        action: 'complete',\n",
              "      }\n",
              "    };\n",
              "  }\n",
              "\n",
              "  for (const file of files) {\n",
              "    const li = document.createElement('li');\n",
              "    li.append(span(file.name, {fontWeight: 'bold'}));\n",
              "    li.append(span(\n",
              "        `(${file.type || 'n/a'}) - ${file.size} bytes, ` +\n",
              "        `last modified: ${\n",
              "            file.lastModifiedDate ? file.lastModifiedDate.toLocaleDateString() :\n",
              "                                    'n/a'} - `));\n",
              "    const percent = span('0% done');\n",
              "    li.appendChild(percent);\n",
              "\n",
              "    outputElement.appendChild(li);\n",
              "\n",
              "    const fileDataPromise = new Promise((resolve) => {\n",
              "      const reader = new FileReader();\n",
              "      reader.onload = (e) => {\n",
              "        resolve(e.target.result);\n",
              "      };\n",
              "      reader.readAsArrayBuffer(file);\n",
              "    });\n",
              "    // Wait for the data to be ready.\n",
              "    let fileData = yield {\n",
              "      promise: fileDataPromise,\n",
              "      response: {\n",
              "        action: 'continue',\n",
              "      }\n",
              "    };\n",
              "\n",
              "    // Use a chunked sending to avoid message size limits. See b/62115660.\n",
              "    let position = 0;\n",
              "    do {\n",
              "      const length = Math.min(fileData.byteLength - position, MAX_PAYLOAD_SIZE);\n",
              "      const chunk = new Uint8Array(fileData, position, length);\n",
              "      position += length;\n",
              "\n",
              "      const base64 = btoa(String.fromCharCode.apply(null, chunk));\n",
              "      yield {\n",
              "        response: {\n",
              "          action: 'append',\n",
              "          file: file.name,\n",
              "          data: base64,\n",
              "        },\n",
              "      };\n",
              "\n",
              "      let percentDone = fileData.byteLength === 0 ?\n",
              "          100 :\n",
              "          Math.round((position / fileData.byteLength) * 100);\n",
              "      percent.textContent = `${percentDone}% done`;\n",
              "\n",
              "    } while (position < fileData.byteLength);\n",
              "  }\n",
              "\n",
              "  // All done.\n",
              "  yield {\n",
              "    response: {\n",
              "      action: 'complete',\n",
              "    }\n",
              "  };\n",
              "}\n",
              "\n",
              "scope.google = scope.google || {};\n",
              "scope.google.colab = scope.google.colab || {};\n",
              "scope.google.colab._files = {\n",
              "  _uploadFiles,\n",
              "  _uploadFilesContinue,\n",
              "};\n",
              "})(self);\n",
              "</script> "
            ]
          },
          "metadata": {}
        },
        {
          "output_type": "stream",
          "name": "stdout",
          "text": [
            "Saving Data.xlsx to Data (2).xlsx\n"
          ]
        }
      ]
    },
    {
      "cell_type": "code",
      "source": [
        "import pandas as pd\n",
        "soubor = pd.ExcelFile('Data.xlsx')\n",
        "soubor.sheet_names\n"
      ],
      "metadata": {
        "colab": {
          "base_uri": "https://localhost:8080/"
        },
        "id": "yX0VzwJD-fsa",
        "outputId": "9a50c11d-2bd8-4169-f74e-f2d241e7ffc6"
      },
      "execution_count": 72,
      "outputs": [
        {
          "output_type": "execute_result",
          "data": {
            "text/plain": [
              "['Transactions', 'Products']"
            ]
          },
          "metadata": {},
          "execution_count": 72
        }
      ]
    },
    {
      "cell_type": "code",
      "source": [
        "# objednávky\n",
        "transakce = soubor.parse(\"Transactions\")\n",
        "\n",
        "# produkty\n",
        "produkty = soubor.parse(\"Products\")\n"
      ],
      "metadata": {
        "id": "eGQ3FXbG-lYN"
      },
      "execution_count": 60,
      "outputs": []
    },
    {
      "cell_type": "code",
      "source": [
        "# Spojení tabulek podle názvu produktu\n",
        "spojeno = pd.merge(transakce, produkty, on=\"Product name\")\n"
      ],
      "metadata": {
        "id": "75HQnwrS-mh7"
      },
      "execution_count": 61,
      "outputs": []
    },
    {
      "cell_type": "code",
      "source": [
        "# Nový sloupec s výpočtem obratu\n",
        "spojeno[\"Obrat\"] = spojeno[\"Price\"] * spojeno[\"Quantity\"]\n"
      ],
      "metadata": {
        "id": "ykgy-kZZ-pLs"
      },
      "execution_count": 62,
      "outputs": []
    },
    {
      "cell_type": "code",
      "source": [
        "# Převedení sloupece Date na datumový formát\n",
        "spojeno[\"Date\"] = pd.to_datetime(spojeno[\"Date\"])\n",
        "\n",
        "# Vytvoření sloupece Měsíc\n",
        "spojeno[\"Mesic\"] = spojeno[\"Date\"].dt.to_period(\"M\")\n",
        "\n",
        "# Vytvoření sloupce Den v týdnu (0 = pondělí, 6 = neděle)\n",
        "spojeno[\"Den_v_tydnu\"] = spojeno[\"Date\"].dt.dayofweek\n",
        "\n",
        "# Spojení tabulek a výpočet obratu\n",
        "merged_df = pd.merge(transactions_df, products_df, on=\"Product name\")\n",
        "merged_df[\"Revenue\"] = merged_df[\"Price\"] * merged_df[\"Quantity\"]\n",
        "merged_df[\"Date\"] = pd.to_datetime(merged_df[\"Date\"])\n",
        "merged_df[\"Month\"] = merged_df[\"Date\"].dt.to_period(\"M\")\n",
        "\n",
        "# Výpočet měsíčního obratu podle kategorie\n",
        "monthly_revenue_by_category = merged_df.groupby([\"Month\", \"Category\"])[\"Revenue\"].sum().unstack()\n",
        "\n",
        "# Zobrazení tabulky\n",
        "from IPython.display import display, HTML\n",
        "display(HTML('<h4>Měsíční obrat podle kategorie</h4>' + monthly_revenue_by_category.to_html()))\n"
      ],
      "metadata": {
        "id": "0wTpuX9V-rt8",
        "colab": {
          "base_uri": "https://localhost:8080/",
          "height": 246
        },
        "outputId": "c63430a9-dd27-4558-f4af-553929b26976"
      },
      "execution_count": 68,
      "outputs": [
        {
          "output_type": "display_data",
          "data": {
            "text/plain": [
              "<IPython.core.display.HTML object>"
            ],
            "text/html": [
              "<h4>Měsíční obrat podle kategorie</h4><table border=\"1\" class=\"dataframe\">\n",
              "  <thead>\n",
              "    <tr style=\"text-align: right;\">\n",
              "      <th>Category</th>\n",
              "      <th>Audio</th>\n",
              "      <th>Mobilní telefony</th>\n",
              "      <th>Tablety</th>\n",
              "      <th>Televize</th>\n",
              "    </tr>\n",
              "    <tr>\n",
              "      <th>Month</th>\n",
              "      <th></th>\n",
              "      <th></th>\n",
              "      <th></th>\n",
              "      <th></th>\n",
              "    </tr>\n",
              "  </thead>\n",
              "  <tbody>\n",
              "    <tr>\n",
              "      <th>2022-02</th>\n",
              "      <td>130310</td>\n",
              "      <td>208690</td>\n",
              "      <td>188890</td>\n",
              "      <td>290920</td>\n",
              "    </tr>\n",
              "    <tr>\n",
              "      <th>2022-03</th>\n",
              "      <td>107820</td>\n",
              "      <td>157710</td>\n",
              "      <td>164910</td>\n",
              "      <td>380900</td>\n",
              "    </tr>\n",
              "    <tr>\n",
              "      <th>2022-04</th>\n",
              "      <td>107840</td>\n",
              "      <td>177510</td>\n",
              "      <td>171910</td>\n",
              "      <td>266930</td>\n",
              "    </tr>\n",
              "    <tr>\n",
              "      <th>2022-05</th>\n",
              "      <td>70400</td>\n",
              "      <td>70550</td>\n",
              "      <td>97950</td>\n",
              "      <td>266930</td>\n",
              "    </tr>\n",
              "  </tbody>\n",
              "</table>"
            ]
          },
          "metadata": {}
        }
      ]
    },
    {
      "cell_type": "code",
      "source": [
        "spojeno.groupby(\"Category\")[\"Obrat\"].sum().sort_values(ascending=False)\n"
      ],
      "metadata": {
        "colab": {
          "base_uri": "https://localhost:8080/",
          "height": 241
        },
        "id": "ieMXs2gs-uTk",
        "outputId": "1f0b8fc3-6521-4ae6-9bb8-332d27aa388d"
      },
      "execution_count": 65,
      "outputs": [
        {
          "output_type": "execute_result",
          "data": {
            "text/plain": [
              "Category\n",
              "Televize            1205680\n",
              "Tablety              623660\n",
              "Mobilní telefony     614460\n",
              "Audio                416370\n",
              "Name: Obrat, dtype: int64"
            ],
            "text/html": [
              "<div>\n",
              "<style scoped>\n",
              "    .dataframe tbody tr th:only-of-type {\n",
              "        vertical-align: middle;\n",
              "    }\n",
              "\n",
              "    .dataframe tbody tr th {\n",
              "        vertical-align: top;\n",
              "    }\n",
              "\n",
              "    .dataframe thead th {\n",
              "        text-align: right;\n",
              "    }\n",
              "</style>\n",
              "<table border=\"1\" class=\"dataframe\">\n",
              "  <thead>\n",
              "    <tr style=\"text-align: right;\">\n",
              "      <th></th>\n",
              "      <th>Obrat</th>\n",
              "    </tr>\n",
              "    <tr>\n",
              "      <th>Category</th>\n",
              "      <th></th>\n",
              "    </tr>\n",
              "  </thead>\n",
              "  <tbody>\n",
              "    <tr>\n",
              "      <th>Televize</th>\n",
              "      <td>1205680</td>\n",
              "    </tr>\n",
              "    <tr>\n",
              "      <th>Tablety</th>\n",
              "      <td>623660</td>\n",
              "    </tr>\n",
              "    <tr>\n",
              "      <th>Mobilní telefony</th>\n",
              "      <td>614460</td>\n",
              "    </tr>\n",
              "    <tr>\n",
              "      <th>Audio</th>\n",
              "      <td>416370</td>\n",
              "    </tr>\n",
              "  </tbody>\n",
              "</table>\n",
              "</div><br><label><b>dtype:</b> int64</label>"
            ]
          },
          "metadata": {},
          "execution_count": 65
        }
      ]
    },
    {
      "cell_type": "markdown",
      "source": [
        "**1) Na jaké kategorii máme největší obrat? A mění se to v měsících?**\n",
        "\n",
        "* Největší obrat má kategorie Televize – přes 1,2 milionu Kč.\n",
        "* V průběhu měsíců se výše obratu liší, což je vidět v přiložené tabulce „Měsíční obrat podle kategorie“."
      ],
      "metadata": {
        "id": "GhIzFERW_plD"
      }
    },
    {
      "cell_type": "code",
      "source": [
        "spojeno.groupby([\"Den_v_tydnu\", \"Transaction ID\"]).size().reset_index().groupby(\"Den_v_tydnu\").size()\n"
      ],
      "metadata": {
        "colab": {
          "base_uri": "https://localhost:8080/",
          "height": 335
        },
        "id": "cHInOaJW-xIT",
        "outputId": "7d1ea55e-48cf-4d63-e274-f3b484d7bf42"
      },
      "execution_count": null,
      "outputs": [
        {
          "output_type": "execute_result",
          "data": {
            "text/plain": [
              "Den_v_tydnu\n",
              "0    13\n",
              "1    10\n",
              "2    11\n",
              "3     9\n",
              "4    12\n",
              "5    13\n",
              "6    10\n",
              "dtype: int64"
            ],
            "text/html": [
              "<div>\n",
              "<style scoped>\n",
              "    .dataframe tbody tr th:only-of-type {\n",
              "        vertical-align: middle;\n",
              "    }\n",
              "\n",
              "    .dataframe tbody tr th {\n",
              "        vertical-align: top;\n",
              "    }\n",
              "\n",
              "    .dataframe thead th {\n",
              "        text-align: right;\n",
              "    }\n",
              "</style>\n",
              "<table border=\"1\" class=\"dataframe\">\n",
              "  <thead>\n",
              "    <tr style=\"text-align: right;\">\n",
              "      <th></th>\n",
              "      <th>0</th>\n",
              "    </tr>\n",
              "    <tr>\n",
              "      <th>Den_v_tydnu</th>\n",
              "      <th></th>\n",
              "    </tr>\n",
              "  </thead>\n",
              "  <tbody>\n",
              "    <tr>\n",
              "      <th>0</th>\n",
              "      <td>13</td>\n",
              "    </tr>\n",
              "    <tr>\n",
              "      <th>1</th>\n",
              "      <td>10</td>\n",
              "    </tr>\n",
              "    <tr>\n",
              "      <th>2</th>\n",
              "      <td>11</td>\n",
              "    </tr>\n",
              "    <tr>\n",
              "      <th>3</th>\n",
              "      <td>9</td>\n",
              "    </tr>\n",
              "    <tr>\n",
              "      <th>4</th>\n",
              "      <td>12</td>\n",
              "    </tr>\n",
              "    <tr>\n",
              "      <th>5</th>\n",
              "      <td>13</td>\n",
              "    </tr>\n",
              "    <tr>\n",
              "      <th>6</th>\n",
              "      <td>10</td>\n",
              "    </tr>\n",
              "  </tbody>\n",
              "</table>\n",
              "</div><br><label><b>dtype:</b> int64</label>"
            ]
          },
          "metadata": {},
          "execution_count": 53
        }
      ]
    },
    {
      "cell_type": "markdown",
      "source": [
        "**2) Který den v týdnu má nejvíce objednávek?**\n",
        "\n",
        "* Pondělí a sobota jsou nejsilnější dny (13 objednávek).\n",
        "\n"
      ],
      "metadata": {
        "id": "8mfN32Rt_zLY"
      }
    },
    {
      "cell_type": "code",
      "source": [
        "#  Najdeme objednávky, kde je televize\n",
        "transakce_s_tv = spojeno[spojeno[\"Category\"] == \"Televize\"][\"Transaction ID\"].unique()\n",
        "\n",
        "# Co všechno se v těchto objednávkách ještě nachází\n",
        "ostatni = spojeno[spojeno[\"Transaction ID\"].isin(transakce_s_tv)]\n",
        "\n",
        "#  Tabulka pro výpočet které kategorie jsou tam nejčastěji\n",
        "ostatni[\"Category\"].value_counts()\n"
      ],
      "metadata": {
        "colab": {
          "base_uri": "https://localhost:8080/",
          "height": 241
        },
        "id": "nqEFz7GA-0j1",
        "outputId": "23154994-75af-4b9b-b5e1-8f35c0e66d41"
      },
      "execution_count": null,
      "outputs": [
        {
          "output_type": "execute_result",
          "data": {
            "text/plain": [
              "Category\n",
              "Televize            32\n",
              "Audio               13\n",
              "Mobilní telefony    12\n",
              "Tablety              7\n",
              "Name: count, dtype: int64"
            ],
            "text/html": [
              "<div>\n",
              "<style scoped>\n",
              "    .dataframe tbody tr th:only-of-type {\n",
              "        vertical-align: middle;\n",
              "    }\n",
              "\n",
              "    .dataframe tbody tr th {\n",
              "        vertical-align: top;\n",
              "    }\n",
              "\n",
              "    .dataframe thead th {\n",
              "        text-align: right;\n",
              "    }\n",
              "</style>\n",
              "<table border=\"1\" class=\"dataframe\">\n",
              "  <thead>\n",
              "    <tr style=\"text-align: right;\">\n",
              "      <th></th>\n",
              "      <th>count</th>\n",
              "    </tr>\n",
              "    <tr>\n",
              "      <th>Category</th>\n",
              "      <th></th>\n",
              "    </tr>\n",
              "  </thead>\n",
              "  <tbody>\n",
              "    <tr>\n",
              "      <th>Televize</th>\n",
              "      <td>32</td>\n",
              "    </tr>\n",
              "    <tr>\n",
              "      <th>Audio</th>\n",
              "      <td>13</td>\n",
              "    </tr>\n",
              "    <tr>\n",
              "      <th>Mobilní telefony</th>\n",
              "      <td>12</td>\n",
              "    </tr>\n",
              "    <tr>\n",
              "      <th>Tablety</th>\n",
              "      <td>7</td>\n",
              "    </tr>\n",
              "  </tbody>\n",
              "</table>\n",
              "</div><br><label><b>dtype:</b> int64</label>"
            ]
          },
          "metadata": {},
          "execution_count": 54
        }
      ]
    },
    {
      "cell_type": "markdown",
      "source": [
        "**3) Co se nejčastěji prodává spolu s televizí?**\n",
        "\n",
        "* Nejčastěji se s televizemi prodává kategorie Audio (např. reproduktory), následovaná mobilními telefony.\n",
        "\n",
        "\n"
      ],
      "metadata": {
        "id": "eS4mnyrD_9jd"
      }
    },
    {
      "cell_type": "code",
      "source": [
        "cutoff = pd.to_datetime(\"2022-03-18\")\n",
        "pred = spojeno[spojeno[\"Date\"] < cutoff]\n",
        "po = spojeno[spojeno[\"Date\"] >= cutoff]\n",
        "\n",
        "# Porovnání\n",
        "print(\"Počet objednávek před:\", pred[\"Transaction ID\"].nunique())\n",
        "print(\"Počet objednávek po:\", po[\"Transaction ID\"].nunique())\n",
        "print(\"Obrat před:\", pred[\"Obrat\"].sum())\n",
        "print(\"Obrat po:\", po[\"Obrat\"].sum())\n",
        "print(\"Průměrná hodnota objednávky před:\", pred.groupby(\"Transaction ID\")[\"Obrat\"].sum().mean())\n",
        "print(\"Průměrná hodnota objednávky po:\", po.groupby(\"Transaction ID\")[\"Obrat\"].sum().mean())\n"
      ],
      "metadata": {
        "colab": {
          "base_uri": "https://localhost:8080/"
        },
        "id": "nWll9W3H-3l1",
        "outputId": "5fae42e2-a01b-41d5-8355-bd719df9301a"
      },
      "execution_count": null,
      "outputs": [
        {
          "output_type": "stream",
          "name": "stdout",
          "text": [
            "Počet objednávek před: 45\n",
            "Počet objednávek po: 33\n",
            "Obrat před: 1270960\n",
            "Obrat po: 1589210\n",
            "Průměrná hodnota objednávky před: 28243.555555555555\n",
            "Průměrná hodnota objednávky po: 48157.878787878784\n"
          ]
        }
      ]
    },
    {
      "cell_type": "markdown",
      "source": [
        "**4) Pomohlo navýšení marketingového rozpočtu 18. 3. 2022?**\n",
        "\n",
        "*  Počet objednávek klesl, ale obrat vzrostl (z 1,27 mil. na 1,59 mil. Kč).\n",
        "*  Průměrná hodnota objednávky výrazně vzrostla – z 28 244 Kč na 48 158 Kč.\n",
        "\n",
        "**Závěr:** Navýšení rozpočtu vedlo k nižšímu počtu objednávek, ale vyšším tržbám a výrazně vyšší průměrné útratě, což značí úspěšnější cílení reklamy a vyšší efektivitu kampaní.\n",
        "\n"
      ],
      "metadata": {
        "id": "ptSBOYuUAP5Z"
      }
    },
    {
      "cell_type": "markdown",
      "source": [
        "**5) Má pořadí produktů vliv na prodej?**\n",
        "\n",
        "Z dostupných objednávkových dat bohužel není možné určit, jestli má výchozí pořadí produktů na stránce vliv na jejich prodej. Abychom to mohli spolehlivě posoudit, bylo by potřeba začít sbírat další typy dat, například:\n",
        "\n",
        "*   Počet zobrazení produktu (tzv. impressions)\n",
        "*   Pozice produktu ve výpisu (např. 1. až 10. místo)\n",
        "*   Počet kliknutí na detail (tzv. click events)\n",
        "*   Konverzní poměr produktu (nákupy / zobrazení)\n"
      ],
      "metadata": {
        "id": "m8jqUQRKCYWC"
      }
    },
    {
      "cell_type": "markdown",
      "source": [
        "**6) As a data analyst working with online marketing data and Google Analytics 4 (GA4), you are aware of the challenges posed by GDPR regulations and cookie consent requirements on data collection. Using a Large Language Model (like ChatGPT), outline the key impacts of GDPR and cookie consent on web analytics data collection. Then, generate a plan to mitigate these data limitations while ensuring compliance with GDPR. Provide the specific prompts you used with the LLM and summarize the responses you received.**\n",
        "\n",
        "\n",
        "\n",
        "*   **Prompts used with LLM:**\n",
        "\n",
        "Act as a senior data analyst working in the EU digital marketing space. I am evaluating the impact of GDPR and cookie consent mechanisms on data collection within Google Analytics 4 (GA4). Please provide a comprehensive analysis of the following:\n",
        "\n",
        "1.   Legal constraints imposed by GDPR on GA4 tracking, especially regarding personal data, consent types (explicit vs. implicit), and lawful basis for data processing.\n",
        "2.   How cookie consent mechanisms affect user tracking, session data continuity, and attribution modeling in GA4.\n",
        "3.   Technical best practices for setting up GA4 and Google Tag Manager (GTM) in a GDPR-compliant manner, including consent mode, triggers, and tag sequencing.\n",
        "4.   How to implement GA4's Consent Mode (Advanced version) and how its conversion modeling compensates for missing data due to consent refusal.\n",
        "5. Examples of server-side tagging, first-party data strategies, and how organizations can combine them with GA4 to improve data quality without breaching compliance.\n",
        "6. Summarize all recommendations in a table with: risk level, mitigation strategy, and implementation complexity (low/medium/high).\n"
      ],
      "metadata": {
        "id": "oToFDDskGlVd"
      }
    },
    {
      "cell_type": "markdown",
      "source": [
        "**Report: Impact of GDPR and Cookie Consent on GA4 Data Collection**\n",
        "\n",
        "\n",
        "1. GDPR Constraints on GA4 Tracking\n",
        "The General Data Protection Regulation (GDPR) enforces strict rules on data collection through analytics tools like Google Analytics 4 (GA4). Tracking user behavior in GA4 involves processing personal data (e.g., cookies, IP addresses, user IDs), which legally requires:\n",
        "\n",
        "*   Explicit user consent before any tracking occurs.\n",
        "*   Minimization or anonymization of personally identifiable information.\n",
        "*   Use of \"Consent\" as the lawful basis for data processing (legitimate interest is typically insufficient for analytics).\n",
        "\n"
      ],
      "metadata": {
        "id": "Pg6hx_WjI1hZ"
      }
    },
    {
      "cell_type": "code",
      "source": [
        "from IPython.display import HTML\n",
        "\n",
        "# Defining the table content\n",
        "data = {\n",
        "    \"Area of Impact\": [\n",
        "        \"User Tracking\",\n",
        "        \"Sessions\",\n",
        "        \"Attribution\",\n",
        "        \"Reporting Accuracy\"\n",
        "    ],\n",
        "    \"Effect of Consent Refusal\": [\n",
        "        \"Returning users cannot be recognized\",\n",
        "        \"Sessions are not recorded\",\n",
        "        \"Channel/source data is lost\",\n",
        "        \"Traffic and conversions are underreported\"\n",
        "    ]\n",
        "}\n",
        "\n",
        "# Creating the table\n",
        "df = pd.DataFrame(data)\n",
        "\n",
        "# Adding table title and explanation, then render the table without index\n",
        "html_content = \"\"\"\n",
        "<h4>2. Impact of Cookie Consent Mechanisms</h4>\n",
        "<p>When a user declines cookie consent, GA4 is unable to track the session or behavior, resulting in:</p>\n",
        "\"\"\" + df.to_html(index=False)\n",
        "\n",
        "# Displayig\n",
        "HTML(html_content)\n",
        "\n"
      ],
      "metadata": {
        "colab": {
          "base_uri": "https://localhost:8080/",
          "height": 240
        },
        "id": "VKSRBAh6LilA",
        "outputId": "e137d753-103f-4f02-827c-143f1d1e61b4"
      },
      "execution_count": null,
      "outputs": [
        {
          "output_type": "execute_result",
          "data": {
            "text/plain": [
              "<IPython.core.display.HTML object>"
            ],
            "text/html": [
              "\n",
              "<h4>2. Impact of Cookie Consent Mechanisms</h4>\n",
              "<p>When a user declines cookie consent, GA4 is unable to track the session or behavior, resulting in:</p>\n",
              "<table border=\"1\" class=\"dataframe\">\n",
              "  <thead>\n",
              "    <tr style=\"text-align: right;\">\n",
              "      <th>Area of Impact</th>\n",
              "      <th>Effect of Consent Refusal</th>\n",
              "    </tr>\n",
              "  </thead>\n",
              "  <tbody>\n",
              "    <tr>\n",
              "      <td>User Tracking</td>\n",
              "      <td>Returning users cannot be recognized</td>\n",
              "    </tr>\n",
              "    <tr>\n",
              "      <td>Sessions</td>\n",
              "      <td>Sessions are not recorded</td>\n",
              "    </tr>\n",
              "    <tr>\n",
              "      <td>Attribution</td>\n",
              "      <td>Channel/source data is lost</td>\n",
              "    </tr>\n",
              "    <tr>\n",
              "      <td>Reporting Accuracy</td>\n",
              "      <td>Traffic and conversions are underreported</td>\n",
              "    </tr>\n",
              "  </tbody>\n",
              "</table>"
            ]
          },
          "metadata": {},
          "execution_count": 56
        }
      ]
    },
    {
      "cell_type": "markdown",
      "source": [
        "These limitations significantly reduce data completeness and distort marketing attribution models.\n",
        "\n"
      ],
      "metadata": {
        "id": "eFZQm_bjMWf3"
      }
    },
    {
      "cell_type": "markdown",
      "source": [
        "**Recommended Mitigation Strategies**\n",
        "\n",
        "To ensure compliance while preserving data insights, the following technical and strategic actions are recommended:\n",
        "\n",
        "1. Consent Management Platform (CMP)\n",
        "\n",
        "*   Implement a GDPR-compliant CMP (e.g., Cookiebot, OneTrust).\n",
        "\n",
        "*   Configure Google Tag Manager (GTM) to trigger GA4 tags only after user consent is granted.\n",
        "\n",
        "2. Google Analytics 4 Consent Mode (Advanced)\n",
        "\n",
        "\n",
        "*  Enables GA4 to adjust data collection based on user consent status.\n",
        "*  Activates conversion modeling to estimate user behavior from non-consenting traffic.\n",
        "\n",
        "3. Server-Side Tagging\n",
        "\n",
        "*   Routes data through an organization-controlled server before sending it to GA4.\n",
        "\n",
        "*   Allows greater control over anonymization and compliance.\n",
        "\n",
        "4. First-Party Data Strategy\n",
        "\n",
        "*   Encourage users to log in, subscribe, or register.\n",
        "*   Enables privacy-compliant tracking based on user-provided identifiers."
      ],
      "metadata": {
        "id": "CnMEuXQ2Mgmy"
      }
    },
    {
      "cell_type": "code",
      "source": [
        "data = {\n",
        "    \"Issue\": [\n",
        "        \"Consent loss\",\n",
        "        \"Attribution gaps\",\n",
        "        \"Legal non-compliance\",\n",
        "        \"Data loss\"\n",
        "    ],\n",
        "    \"Risk Level\": [\n",
        "        \"High\",\n",
        "        \"High\",\n",
        "        \"Critical\",\n",
        "        \"Medium\"\n",
        "    ],\n",
        "    \"Recommended Mitigation\": [\n",
        "        \"CMP + GA4 Consent Mode\",\n",
        "        \"Modeled conversions in GA4\",\n",
        "        \"Data anonymization + audit logs\",\n",
        "        \"Server-side tracking + first-party data\"\n",
        "    ],\n",
        "    \"Implementation Complexity\": [\n",
        "        \"Medium\",\n",
        "        \"Low\",\n",
        "        \"Medium\",\n",
        "        \"High\"\n",
        "    ]\n",
        "}\n",
        "\n",
        "df = pd.DataFrame(data)\n",
        "HTML(df.to_html(index=False))\n",
        "\n",
        "# HTML content with a title and the table\n",
        "html_table = \"<h4>4. Summary Table: Risk Assessment & Mitigation</h4>\" + df.to_html(index=False)\n",
        "\n",
        "# Table with the title\n",
        "display(HTML(html_table))\n"
      ],
      "metadata": {
        "colab": {
          "base_uri": "https://localhost:8080/",
          "height": 215
        },
        "id": "E6S5C7CFK3ls",
        "outputId": "21afb002-4ba2-49d5-9169-e3c0ed8b99fd"
      },
      "execution_count": null,
      "outputs": [
        {
          "output_type": "display_data",
          "data": {
            "text/plain": [
              "<IPython.core.display.HTML object>"
            ],
            "text/html": [
              "<h4>4. Summary Table: Risk Assessment & Mitigation</h4><table border=\"1\" class=\"dataframe\">\n",
              "  <thead>\n",
              "    <tr style=\"text-align: right;\">\n",
              "      <th>Issue</th>\n",
              "      <th>Risk Level</th>\n",
              "      <th>Recommended Mitigation</th>\n",
              "      <th>Implementation Complexity</th>\n",
              "    </tr>\n",
              "  </thead>\n",
              "  <tbody>\n",
              "    <tr>\n",
              "      <td>Consent loss</td>\n",
              "      <td>High</td>\n",
              "      <td>CMP + GA4 Consent Mode</td>\n",
              "      <td>Medium</td>\n",
              "    </tr>\n",
              "    <tr>\n",
              "      <td>Attribution gaps</td>\n",
              "      <td>High</td>\n",
              "      <td>Modeled conversions in GA4</td>\n",
              "      <td>Low</td>\n",
              "    </tr>\n",
              "    <tr>\n",
              "      <td>Legal non-compliance</td>\n",
              "      <td>Critical</td>\n",
              "      <td>Data anonymization + audit logs</td>\n",
              "      <td>Medium</td>\n",
              "    </tr>\n",
              "    <tr>\n",
              "      <td>Data loss</td>\n",
              "      <td>Medium</td>\n",
              "      <td>Server-side tracking + first-party data</td>\n",
              "      <td>High</td>\n",
              "    </tr>\n",
              "  </tbody>\n",
              "</table>"
            ]
          },
          "metadata": {}
        }
      ]
    },
    {
      "cell_type": "markdown",
      "source": [
        "**Conclusion**\n",
        "\n",
        "While GDPR and cookie consent regulations limit traditional analytics tracking, organizations can maintain effective and privacy-compliant measurement by implementing consent-aware tools (GA4 Consent Mode, CMPs), shifting to server-side infrastructure, and focusing on first-party data strategies.\n",
        "\n",
        "These solutions ensure legal compliance without sacrificing essential marketing and user behavior insights."
      ],
      "metadata": {
        "id": "OLsroWSjNcso"
      }
    }
  ]
}